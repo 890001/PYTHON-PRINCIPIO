{
  "nbformat": 4,
  "nbformat_minor": 0,
  "metadata": {
    "colab": {
      "provenance": [],
      "authorship_tag": "ABX9TyONeeGDrKVJhStkDns3bz1K",
      "include_colab_link": true
    },
    "kernelspec": {
      "name": "python3",
      "display_name": "Python 3"
    },
    "language_info": {
      "name": "python"
    }
  },
  "cells": [
    {
      "cell_type": "markdown",
      "metadata": {
        "id": "view-in-github",
        "colab_type": "text"
      },
      "source": [
        "<a href=\"https://colab.research.google.com/github/890001/PYTHON-PRINCIPIO/blob/main/TODO_LISTAS.ipynb\" target=\"_parent\"><img src=\"https://colab.research.google.com/assets/colab-badge.svg\" alt=\"Open In Colab\"/></a>"
      ]
    },
    {
      "cell_type": "code",
      "execution_count": null,
      "metadata": {
        "colab": {
          "base_uri": "https://localhost:8080/"
        },
        "id": "PC-WU7Dy0SGu",
        "outputId": "2e5fb6af-9bfd-47a3-de98-a44691b6063a"
      },
      "outputs": [
        {
          "output_type": "stream",
          "name": "stdout",
          "text": [
            "a es 10,\n",
            "b es 125\n"
          ]
        }
      ],
      "source": [
        "a=10\n",
        "b=125\n",
        "print(f'a es {a},\\nb es {b}')"
      ]
    },
    {
      "cell_type": "code",
      "source": [
        "lista=[\"lunes\",\"martes\",\"jueves\",\"miercoles\",\"viernes\",5,4.67,[1,2,3],True]\n",
        "print(lista)\n",
        "print(len(lista))"
      ],
      "metadata": {
        "colab": {
          "base_uri": "https://localhost:8080/"
        },
        "id": "IcCXd4eX12Qu",
        "outputId": "f1226094-8db7-41d3-e569-abb697d4ebe0"
      },
      "execution_count": null,
      "outputs": [
        {
          "output_type": "stream",
          "name": "stdout",
          "text": [
            "['lunes', 'martes', 'jueves', 'miercoles', 'viernes', 5, 4.67, [1, 2, 3], True]\n",
            "9\n"
          ]
        }
      ]
    },
    {
      "cell_type": "code",
      "source": [
        "lista1=[1,2,3,4,5]\n",
        "lista1.append(6)\n",
        "print(lista1)\n",
        "lista1.insert(2,\"Mamushka\")\n",
        "print(lista1)\n",
        "lista1.extend([6,7,8])\n",
        "print(lista1)\n",
        "lista2=lista+lista1\n",
        "print(lista2)\n",
        "print(4 in lista)\n",
        "print(4 in lista1)\n",
        "print(lista1.index(4))\n",
        "print(lista2.count(6))\n",
        "lista2.pop()\n",
        "print(lista2)\n",
        "lista1.remove(3)\n",
        "print(lista1)\n",
        "lista2.clear()\n",
        "print(lista2)\n",
        "lista2=lista+lista1\n",
        "print(lista2)\n",
        "lista2.reverse()\n",
        "print(lista2)\n",
        "lista3=[1,2,9,-5,66,-15,3,-7,0]\n",
        "lista3.sort()\n",
        "print(lista3)\n",
        "lista3=[1,2,9,-5,66,-15,3,-7,0]\n",
        "lista3.sort(reverse=True)\n",
        "print(lista3)"
      ],
      "metadata": {
        "colab": {
          "base_uri": "https://localhost:8080/"
        },
        "id": "e9wAURklAOWb",
        "outputId": "e33ad7f9-041d-40d2-8690-0b226f6cdaaa"
      },
      "execution_count": null,
      "outputs": [
        {
          "output_type": "stream",
          "name": "stdout",
          "text": [
            "[1, 2, 3, 4, 5, 6]\n",
            "[1, 2, 'Mamushka', 3, 4, 5, 6]\n",
            "[1, 2, 'Mamushka', 3, 4, 5, 6, 6, 7, 8]\n",
            "['lunes', 'martes', 'jueves', 'miercoles', 'viernes', 5, 4.67, [1, 2, 3], True, 1, 2, 'Mamushka', 3, 4, 5, 6, 6, 7, 8]\n",
            "False\n",
            "True\n",
            "4\n",
            "2\n",
            "['lunes', 'martes', 'jueves', 'miercoles', 'viernes', 5, 4.67, [1, 2, 3], True, 1, 2, 'Mamushka', 3, 4, 5, 6, 6, 7]\n",
            "[1, 2, 'Mamushka', 4, 5, 6, 6, 7, 8]\n",
            "[]\n",
            "['lunes', 'martes', 'jueves', 'miercoles', 'viernes', 5, 4.67, [1, 2, 3], True, 1, 2, 'Mamushka', 4, 5, 6, 6, 7, 8]\n",
            "[8, 7, 6, 6, 5, 4, 'Mamushka', 2, 1, True, [1, 2, 3], 4.67, 5, 'viernes', 'miercoles', 'jueves', 'martes', 'lunes']\n",
            "[-15, -7, -5, 0, 1, 2, 3, 9, 66]\n",
            "[66, 9, 3, 2, 1, 0, -5, -7, -15]\n"
          ]
        }
      ]
    }
  ]
}