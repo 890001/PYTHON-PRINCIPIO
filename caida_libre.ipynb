{
  "nbformat": 4,
  "nbformat_minor": 0,
  "metadata": {
    "colab": {
      "provenance": [],
      "authorship_tag": "ABX9TyPxyw6CwsU3y2ZPF/x5m3nc",
      "include_colab_link": true
    },
    "kernelspec": {
      "name": "python3",
      "display_name": "Python 3"
    },
    "language_info": {
      "name": "python"
    }
  },
  "cells": [
    {
      "cell_type": "markdown",
      "metadata": {
        "id": "view-in-github",
        "colab_type": "text"
      },
      "source": [
        "<a href=\"https://colab.research.google.com/github/890001/PYTHON-PRINCIPIO/blob/main/caida_libre.ipynb\" target=\"_parent\"><img src=\"https://colab.research.google.com/assets/colab-badge.svg\" alt=\"Open In Colab\"/></a>"
      ]
    },
    {
      "cell_type": "markdown",
      "source": [
        "#EJERCICIO CAIDA LIBRE\n",
        "##Calculo de la Altura"
      ],
      "metadata": {
        "id": "ci-bBjZXfILD"
      }
    },
    {
      "cell_type": "code",
      "execution_count": null,
      "metadata": {
        "colab": {
          "base_uri": "https://localhost:8080/"
        },
        "id": "6AVNZ-jZeDE7",
        "outputId": "3a437c39-0ffd-41e2-e4cd-33e6b7d46700"
      },
      "outputs": [
        {
          "output_type": "stream",
          "name": "stdout",
          "text": [
            "At t=0.6 s, the height of the ball is 1.23 m.\n"
          ]
        }
      ],
      "source": [
        "v0=5\n",
        "g=9.81\n",
        "t=0.6\n",
        "y=v0*t-0.5*g*t**2\n",
        "print('At t=%g s, the height of the ball is %.2f m.'%(t,y))"
      ]
    },
    {
      "cell_type": "code",
      "source": [
        "v0=5\n",
        "g=9.81\n",
        "t=0.6\n",
        "y=v0*t-0.5*g*t**2\n",
        "print(\"\"\"\"At t=%f s , a ball with initial velocity v0=%.3E m/s \n",
        "is located at the height %.2f m. \"\"\" %(t,v0,y))"
      ],
      "metadata": {
        "id": "4SKnv5qZhgl8",
        "outputId": "20a7d218-2175-4f20-83c3-99688fa40c76",
        "colab": {
          "base_uri": "https://localhost:8080/"
        }
      },
      "execution_count": 6,
      "outputs": [
        {
          "output_type": "stream",
          "name": "stdout",
          "text": [
            "\"At t=0.600000 s , a ball with initial velocity v0=5.000E+00 m/s \n",
            "is located at the height 1.23 m. \n"
          ]
        }
      ]
    }
  ]
}