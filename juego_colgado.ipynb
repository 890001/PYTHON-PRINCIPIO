{
  "nbformat": 4,
  "nbformat_minor": 0,
  "metadata": {
    "colab": {
      "provenance": [],
      "authorship_tag": "ABX9TyNzXqz/23Lo2e+fagbaYvSo",
      "include_colab_link": true
    },
    "kernelspec": {
      "name": "python3",
      "display_name": "Python 3"
    },
    "language_info": {
      "name": "python"
    }
  },
  "cells": [
    {
      "cell_type": "markdown",
      "metadata": {
        "id": "view-in-github",
        "colab_type": "text"
      },
      "source": [
        "<a href=\"https://colab.research.google.com/github/890001/PYTHON-PRINCIPIO/blob/main/juego_colgado.ipynb\" target=\"_parent\"><img src=\"https://colab.research.google.com/assets/colab-badge.svg\" alt=\"Open In Colab\"/></a>"
      ]
    },
    {
      "cell_type": "code",
      "execution_count": 5,
      "metadata": {
        "colab": {
          "base_uri": "https://localhost:8080/"
        },
        "id": "O1ppSMdlFNhH",
        "outputId": "3cd4567b-b3a0-41ae-c8f3-eaa570d5a314"
      },
      "outputs": [
        {
          "output_type": "stream",
          "name": "stdout",
          "text": [
            "True\n",
            "2\n",
            "5\n",
            "[4, 'hola', 6.78, [1, 2, 3], 4]\n",
            "(4, 'hola', 6.78, [1, 2, 3], 4)\n"
          ]
        }
      ],
      "source": [
        "tupla=(4,\"hola\",6.78,[1,2,3],4)\n",
        "print(4 in tupla)\n",
        "print(tupla.count(4))\n",
        "print(len(tupla))\n",
        "lista=list(tupla)\n",
        "print(lista)#LA TUPLA PERMANECE INTACTA, NO SE MODIFICO\n",
        "tupla2=tuple(lista)\n",
        "print(tupla2)"
      ]
    },
    {
      "cell_type": "code",
      "source": [
        "conjunto=set()#son datos DESORDENADOS\n",
        "conjunto={1,2,3,\"hola\",4.56}#NO PUEDE HABER OTRA COLECCION:LISTAS,TUPLAS,ETC Y NO PUEDE HABER VALORES DUPLICADOS\n",
        "conjunto.add(5)#no se coloca al final\n",
        "print(conjunto)\n",
        "conjunto.add(\"adios\")\n",
        "conjunto.add(\"a\")\n",
        "print(conjunto)\n",
        "conjunto.discard(3)\n",
        "print(conjunto)\n",
        "print(2 in conjunto)\n",
        "conjunto.clear()\n",
        "print(conjunto)"
      ],
      "metadata": {
        "colab": {
          "base_uri": "https://localhost:8080/"
        },
        "id": "DpAx6iG7IgW0",
        "outputId": "dab6cdc9-39c9-4c4d-aec2-1153f3d5598f"
      },
      "execution_count": 12,
      "outputs": [
        {
          "output_type": "stream",
          "name": "stdout",
          "text": [
            "{1, 2, 3, 4.56, 5, 'hola'}\n",
            "{1, 2, 3, 4.56, 5, 'adios', 'hola', 'a'}\n",
            "{1, 2, 4.56, 5, 'adios', 'hola', 'a'}\n",
            "True\n",
            "set()\n"
          ]
        }
      ]
    },
    {
      "cell_type": "code",
      "source": [
        "from binascii import b2a_base64\n",
        "a=set()\n",
        "b=set()\n",
        "c=set()\n",
        "a={1,2,3}\n",
        "b={3,4,5}\n",
        "print(a==b)\n",
        "c={3,2,1,4,5}\n",
        "print(a==c)\n",
        "print(len(c))\n",
        "d=a|b\n",
        "print(d)\n",
        "e=a&b\n",
        "print(e)\n",
        "f=b-a\n",
        "print(f)\n",
        "g=a^b#diferencia simetrica\n",
        "print(g)\n",
        "print(a.issubset(c))#PREGUNTA SI a ES subconjunto de c\n",
        "print(c.issuperset(a))#PREGUNTA SI a ES superconjunto de c\n",
        "print(a.isdisjoint(c))#pregunta si son conjuntos disconexos\n",
        "a=frozenset({1,2,3})#conjunto inmutable"
      ],
      "metadata": {
        "colab": {
          "base_uri": "https://localhost:8080/"
        },
        "id": "ZlHSady4Kgh0",
        "outputId": "6e8469ed-f917-48b3-a8cd-bb1331ff9936"
      },
      "execution_count": 24,
      "outputs": [
        {
          "output_type": "stream",
          "name": "stdout",
          "text": [
            "False\n",
            "False\n",
            "5\n",
            "{1, 2, 3, 4, 5}\n",
            "{3}\n",
            "{4, 5}\n",
            "{1, 2, 4, 5}\n",
            "True\n",
            "True\n",
            "False\n"
          ]
        }
      ]
    },
    {
      "cell_type": "code",
      "source": [
        "import random as rd\n",
        "palabra=[\"cafe\",\"tapete\",\"pollos\",\"mau\",\"tablet\"]\n",
        "indice=rd.randint(0,len(palabra)-1)\n",
        "pal=palabra[indice].upper()\n",
        "Palpri=pal[0].upper()\n",
        "Palult=pal[-1]\n",
        "n=len(pal)-2\n",
        "subguion=n* \" _ \" \n",
        "pista= Palpri + subguion +Palult\n",
        "print(pista)\n",
        "Paluser=input(\"adivine la palabra: \").upper()\n",
        "cond= Paluser==pal\n",
        "print(\"¿Gano?: \", cond)\n",
        "\n"
      ],
      "metadata": {
        "colab": {
          "base_uri": "https://localhost:8080/"
        },
        "id": "7IMMgCWts4Ns",
        "outputId": "736e07e7-7ad7-4772-fbca-e4f33756433b"
      },
      "execution_count": 21,
      "outputs": [
        {
          "output_type": "stream",
          "name": "stdout",
          "text": [
            "C _  _ E\n",
            "adivine la palabra: catre\n",
            "¿Gano?:  False\n"
          ]
        }
      ]
    },
    {
      "cell_type": "code",
      "source": [
        "import random as rd\n",
        "palabra=[\"cafe\",\"tapete\",\"pollos\",\"mau\",\"tablet\"]\n",
        "pal=rd.choice(palabra)\n",
        "palMayus=pal.upper()\n",
        "indice=rd.randint(0,len(palMayus)-1)\n",
        "letra=palMayus[indice]\n",
        "nPri=len(palMayus[:indice])\n",
        "nUlt=len(palMayus[indice+1:])\n",
        "pista=(nPri*\" _ \")+letra+(nUlt*\" _ \")\n",
        "print(pista)\n",
        "palUser=input(\"ingrese la palabra: \").upper()\n",
        "cond=palMayus==palUser\n",
        "print(\"¿Gano?: \", cond)"
      ],
      "metadata": {
        "colab": {
          "base_uri": "https://localhost:8080/"
        },
        "id": "ss2EQapH1HK4",
        "outputId": "ce8efe35-1fe3-4ecc-ff6e-d80dd99a4154"
      },
      "execution_count": 36,
      "outputs": [
        {
          "output_type": "stream",
          "name": "stdout",
          "text": [
            " _  _  _ L _  _ \n",
            "ingrese la palabra: pollos\n",
            "¿Gano?:  True\n"
          ]
        }
      ]
    },
    {
      "cell_type": "code",
      "source": [],
      "metadata": {
        "id": "gvMsAD5GDA6p"
      },
      "execution_count": null,
      "outputs": []
    }
  ]
}