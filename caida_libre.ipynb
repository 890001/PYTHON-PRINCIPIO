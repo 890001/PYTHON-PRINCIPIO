{
  "nbformat": 4,
  "nbformat_minor": 0,
  "metadata": {
    "colab": {
      "provenance": [],
      "authorship_tag": "ABX9TyONUpMPqwkgp9MHwgBFzsTg",
      "include_colab_link": true
    },
    "kernelspec": {
      "name": "python3",
      "display_name": "Python 3"
    },
    "language_info": {
      "name": "python"
    }
  },
  "cells": [
    {
      "cell_type": "markdown",
      "metadata": {
        "id": "view-in-github",
        "colab_type": "text"
      },
      "source": [
        "<a href=\"https://colab.research.google.com/github/890001/PYTHON-PRINCIPIO/blob/main/caida_libre.ipynb\" target=\"_parent\"><img src=\"https://colab.research.google.com/assets/colab-badge.svg\" alt=\"Open In Colab\"/></a>"
      ]
    },
    {
      "cell_type": "markdown",
      "source": [
        "#EJERCICIO CAIDA LIBRE\n",
        "##Calculo de la Altura"
      ],
      "metadata": {
        "id": "ci-bBjZXfILD"
      }
    },
    {
      "cell_type": "code",
      "execution_count": 3,
      "metadata": {
        "colab": {
          "base_uri": "https://localhost:8080/"
        },
        "id": "6AVNZ-jZeDE7",
        "outputId": "3a437c39-0ffd-41e2-e4cd-33e6b7d46700"
      },
      "outputs": [
        {
          "output_type": "stream",
          "name": "stdout",
          "text": [
            "At t=0.6 s, the height of the ball is 1.23 m.\n"
          ]
        }
      ],
      "source": [
        "v0=5\n",
        "g=9.81\n",
        "t=0.6\n",
        "y=v0*t-0.5*g*t**2\n",
        "print('At t=%g s, the height of the ball is %.2f m.'%(t,y))"
      ]
    }
  ]
}